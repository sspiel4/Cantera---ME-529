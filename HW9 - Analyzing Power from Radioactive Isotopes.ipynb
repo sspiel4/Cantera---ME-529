{
 "cells": [
  {
   "cell_type": "code",
   "execution_count": 147,
   "metadata": {
    "collapsed": true
   },
   "outputs": [],
   "source": [
    "import cantera as ct\n",
    "import numpy as np\n",
    "import pandas as pd\n",
    "import math as math"
   ]
  },
  {
   "cell_type": "code",
   "execution_count": 148,
   "metadata": {
    "collapsed": true
   },
   "outputs": [],
   "source": [
    "#Mass of particles in AMU\n",
    "mBeta = 0.000549\n",
    "mNuetron = 1.008665\n",
    "mAlpha = 4.0026\n",
    "mProton = 1.007825"
   ]
  },
  {
   "cell_type": "markdown",
   "metadata": {},
   "source": [
    "# NASA Sterling Engine"
   ]
  },
  {
   "cell_type": "markdown",
   "metadata": {},
   "source": [
    "### (2) Part A: Sr-90 Beta Decay"
   ]
  },
  {
   "cell_type": "code",
   "execution_count": 149,
   "metadata": {},
   "outputs": [
    {
     "name": "stdout",
     "output_type": "stream",
     "text": [
      "Mass of Reactants = 89.908 AMU\n",
      "Mass of Products = 89.906098 AMU\n",
      "Mass lost to energy = 0.0019020000000011805 AMU\n",
      "Energy production per decay = 1.7764680000011026 MEV\n"
     ]
    }
   ],
   "source": [
    "#analyze strontium decay\n",
    "#assume mass of electron is negligible\n",
    "\n",
    "#reactants. Sr-90\n",
    "mSr90 = 89.908 #AMU\n",
    "m_react = mSr90\n",
    "print(\"Mass of Reactants = {} AMU\".format(m_react))\n",
    "\n",
    "#products. Zr-90 and 2 Beta\n",
    "mZr90 = 89.905 #AMU\n",
    "m_prod = mZr90 + 2*mBeta\n",
    "print(\"Mass of Products = {} AMU\".format(m_prod))\n",
    "\n",
    "#difference in products and reactants\n",
    "m_diff = m_react - m_prod\n",
    "print(\"Mass lost to energy = {} AMU\".format(m_diff))\n",
    "\n",
    "#calculate energy in MEV. conversion = 934MEV/1AMU\n",
    "energy = m_diff * 934\n",
    "print(\"Energy production per decay = {} MEV\".format(energy))"
   ]
  },
  {
   "cell_type": "code",
   "execution_count": 150,
   "metadata": {},
   "outputs": [
    {
     "data": {
      "text/plain": [
       "729357.8606019161"
      ]
     },
     "execution_count": 150,
     "metadata": {},
     "output_type": "execute_result"
    }
   ],
   "source": [
    "#check MJ/kg\n",
    "MeVtoJ = 1.6021766208 * 10**-13\n",
    "MJtoJ = 1 / 1000000 \n",
    "FissiontoMol = 6.022 * 10**23\n",
    "MoltoKmol = 1000\n",
    "KmoltoKg = 1 / 235\n",
    "eDensity = energy*MeVtoJ*MJtoJ*FissiontoMol*MoltoKmol*KmoltoKg\n",
    "\n",
    "eDensity"
   ]
  },
  {
   "cell_type": "code",
   "execution_count": 151,
   "metadata": {},
   "outputs": [
    {
     "name": "stdout",
     "output_type": "stream",
     "text": [
      "After 14 years 71.39470021304611 % of Sr-90 remain\n"
     ]
    }
   ],
   "source": [
    "#calculate percentage of Sr-90 left after 14yrs\n",
    "\n",
    "#time in yrs\n",
    "t = 14\n",
    "#half life in years\n",
    "tHalf = 28.8\n",
    "\n",
    "T = tHalf / math.log(0.5)\n",
    "massRatio = (math.exp(t/T))\n",
    "massPercent = 100*(math.exp(t/T))\n",
    "print(\"After 14 years {} % of Sr-90 remain\".format(massPercent))"
   ]
  },
  {
   "cell_type": "code",
   "execution_count": 152,
   "metadata": {},
   "outputs": [
    {
     "name": "stdout",
     "output_type": "stream",
     "text": [
      "456746863081305.2 decays per second are required to produce 130W\n",
      "So, change in mass/second at 14 yrs = 1.4425980298591524e-15\n"
     ]
    }
   ],
   "source": [
    "#what mass is required at yr 14 to produce 130W\n",
    "\n",
    "#find the decays per second\n",
    "meVtoW = 1.6021766208 * 10**-13\n",
    "meVrequired = 130 / meVtoW \n",
    "decaysRequired = meVrequired/energy\n",
    "print(\"{} decays per second are required to produce 130W\".format(decaysRequired))\n",
    "\n",
    "#change in mass per second\n",
    "KGtoAMU = 6.022*10**26\n",
    "dNdt = (decaysRequired*m_diff) / KGtoAMU\n",
    "print(\"So, change in mass/second at 14 yrs = {}\".format(dNdt))\n",
    "\n",
    "#seconds in a year\n",
    "YRtoS = 3.154*10**7\n",
    "\n",
    "#calculate initial mass required from rate of change\n",
    "Ni = (-dNdt*T*YRtoS)/math.exp(-14/T)\n",
    "#now include efficiency\n",
    "eff = 0.26\n",
    "Ni = Ni/eff"
   ]
  },
  {
   "cell_type": "markdown",
   "metadata": {},
   "source": [
    "### Solution"
   ]
  },
  {
   "cell_type": "code",
   "execution_count": 153,
   "metadata": {},
   "outputs": [
    {
     "name": "stdout",
     "output_type": "stream",
     "text": [
      "5.191187038687926e-06 KG of Sr-90 is required to meet the space missions needs\n"
     ]
    }
   ],
   "source": [
    "print(\"{} KG of Sr-90 is required to meet the space missions needs\".format(Ni))"
   ]
  },
  {
   "cell_type": "code",
   "execution_count": 154,
   "metadata": {},
   "outputs": [
    {
     "data": {
      "text/plain": [
       "236.958995"
      ]
     },
     "execution_count": 154,
     "metadata": {},
     "output_type": "execute_result"
    }
   ],
   "source": [
    "92*mProton + 143*mNuetron"
   ]
  },
  {
   "cell_type": "markdown",
   "metadata": {},
   "source": [
    "# Columbia Generating Station"
   ]
  },
  {
   "cell_type": "markdown",
   "metadata": {},
   "source": [
    "### (3) Part A - Energy Released"
   ]
  },
  {
   "cell_type": "code",
   "execution_count": 155,
   "metadata": {},
   "outputs": [
    {
     "name": "stdout",
     "output_type": "stream",
     "text": [
      "Mass of Reactants = 236.0525949 AMU\n",
      "Mass of Products = 235.83220701899998 AMU\n",
      "Mass lost to energy = 0.22038788100002193 AMU\n",
      "Energy production per decay = 205.8422808540205 MEV\n"
     ]
    }
   ],
   "source": [
    "#Decay of U-235. Assume products are only I-133, Y-101, and two nuetrons. \n",
    "#Include all beta decay products.\n",
    "#Beta decay to CS-133, Ru-101, and seven beta particles.\n",
    "\n",
    "#analyze decay\n",
    "#assume mass of electron is negligible\n",
    "\n",
    "#reactants. U-235, 1 nuetron\n",
    "mU235 = 235.0439299\n",
    "m_react = mU235 + mNuetron\n",
    "print(\"Mass of Reactants = {} AMU\".format(m_react))\n",
    "\n",
    "#products. Cs-133, Ru-101, 2 nuetrons, 7 Beta\n",
    "mCs133 = 132.905451932 #AMU\n",
    "mRu101 = 100.905582087 #AMU\n",
    "m_prod = mCs133+ mRu101 + 2*mNuetron + 7*mBeta\n",
    "print(\"Mass of Products = {} AMU\".format(m_prod))\n",
    "\n",
    "#difference in products and reactants\n",
    "m_diff = m_react - m_prod\n",
    "print(\"Mass lost to energy = {} AMU\".format(m_diff))\n",
    "\n",
    "#calculate energy in MEV. conversion = 934MEV/1AMU\n",
    "energy = m_diff * 934\n",
    "print(\"Energy production per decay = {} MEV\".format(energy))"
   ]
  },
  {
   "cell_type": "code",
   "execution_count": 156,
   "metadata": {},
   "outputs": [
    {
     "name": "stdout",
     "output_type": "stream",
     "text": [
      "84511899.78373602 MJ/KG\n",
      "This seems really high\n"
     ]
    }
   ],
   "source": [
    "#check MJ/kg\n",
    "MeVtoJ = 1.6021766208 * 10**-13\n",
    "MJtoJ = 1 / 1000000 \n",
    "FissiontoMol = 6.022 * 10**23\n",
    "MoltoKmol = 1000\n",
    "KmoltoKg = 1 / 235\n",
    "eDensity = energy*MeVtoJ*MJtoJ*FissiontoMol*MoltoKmol*KmoltoKg\n",
    "\n",
    "print(\"{} MJ/KG\".format(eDensity))\n",
    "print(\"This seems really high\")"
   ]
  },
  {
   "cell_type": "markdown",
   "metadata": {},
   "source": [
    "### Part B - Energy Costs"
   ]
  },
  {
   "cell_type": "code",
   "execution_count": 160,
   "metadata": {},
   "outputs": [
    {
     "name": "stdout",
     "output_type": "stream",
     "text": [
      "31333.333333333336 $/kg of pure U-235\n",
      "1.0915849144284714e+17 fissions per Kwh\n",
      "0.44499092885422664 cents per kwH. Fuel Cost\n"
     ]
    }
   ],
   "source": [
    "#Assume:\n",
    "eff = 0.3\n",
    "ratio235 = 0.06\n",
    "fuelCost = 1880 #$/kg\n",
    "\n",
    "#Calculate cost per kg of u-235\n",
    "costU235 = fuelCost / ratio235\n",
    "print(\"{} $/kg of pure U-235\".format(costU235))\n",
    "\n",
    "#Calculate fissions per Kwh\n",
    "MeVtoJ = 1.6021766208 * 10**-13\n",
    "JtoKwh = 1 / (3.6*10**6)\n",
    "fissionPerKwh = (energy * MeVtoJ * JtoKwh)**-1\n",
    "print(\"{} fissions per Kwh\".format(fissionPerKwh))\n",
    "\n",
    "#Cost of 1 Kwh\n",
    "costPerKw = (((fissionPerKwh / FissiontoMol / MoltoKmol * mU235)*costU235) / eff) * 100\n",
    "print(\"{} cents per kwH. Fuel Cost\".format(costPerKw))"
   ]
  },
  {
   "cell_type": "code",
   "execution_count": null,
   "metadata": {
    "collapsed": true
   },
   "outputs": [],
   "source": []
  },
  {
   "cell_type": "code",
   "execution_count": null,
   "metadata": {
    "collapsed": true
   },
   "outputs": [],
   "source": []
  }
 ],
 "metadata": {
  "kernelspec": {
   "display_name": "Python 3",
   "language": "python",
   "name": "python3"
  },
  "language_info": {
   "codemirror_mode": {
    "name": "ipython",
    "version": 3
   },
   "file_extension": ".py",
   "mimetype": "text/x-python",
   "name": "python",
   "nbconvert_exporter": "python",
   "pygments_lexer": "ipython3",
   "version": "3.6.1"
  }
 },
 "nbformat": 4,
 "nbformat_minor": 2
}

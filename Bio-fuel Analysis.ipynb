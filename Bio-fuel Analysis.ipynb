{
 "cells": [
  {
   "cell_type": "code",
   "execution_count": 1,
   "metadata": {
    "collapsed": true
   },
   "outputs": [],
   "source": [
    "import cantera as ct\n",
    "import numpy as np\n",
    "import pandas as pd"
   ]
  },
  {
   "cell_type": "markdown",
   "metadata": {},
   "source": [
    "# Biofuel Analysis"
   ]
  },
  {
   "cell_type": "markdown",
   "metadata": {},
   "source": [
    "## Part A - Fuel Properties"
   ]
  },
  {
   "cell_type": "code",
   "execution_count": 2,
   "metadata": {
    "collapsed": true
   },
   "outputs": [],
   "source": [
    "#proximate analysis. %mass\n",
    "proximate_analysis = {'moisture' : 20,'ash' : 1,'volitile_matter' : 70.5 ,'fixed_carbon' : 8.5}\n",
    "#ultimate analysis . %mass\n",
    "ultimate_analysis = {'C':55, 'H':11, 'O':33, 'N':1, 'S':0}\n",
    "\n",
    "#use a dictionary to map elements to their weights\n",
    "weights = {'H' : 1.01, 'C' : 12.01, 'O' : 16.00, 'N' : 14.01, 'S' : 32.06, 'H2O':18.02}"
   ]
  },
  {
   "cell_type": "code",
   "execution_count": 3,
   "metadata": {},
   "outputs": [
    {
     "data": {
      "text/html": [
       "<div>\n",
       "<style>\n",
       "    .dataframe thead tr:only-child th {\n",
       "        text-align: right;\n",
       "    }\n",
       "\n",
       "    .dataframe thead th {\n",
       "        text-align: left;\n",
       "    }\n",
       "\n",
       "    .dataframe tbody tr th {\n",
       "        vertical-align: top;\n",
       "    }\n",
       "</style>\n",
       "<table border=\"1\" class=\"dataframe\">\n",
       "  <thead>\n",
       "    <tr style=\"text-align: right;\">\n",
       "      <th></th>\n",
       "      <th>C</th>\n",
       "      <th>H</th>\n",
       "      <th>H2O</th>\n",
       "      <th>N</th>\n",
       "      <th>O</th>\n",
       "      <th>S</th>\n",
       "    </tr>\n",
       "  </thead>\n",
       "  <tbody>\n",
       "    <tr>\n",
       "      <th>UA</th>\n",
       "      <td>55.00</td>\n",
       "      <td>11.00</td>\n",
       "      <td>NaN</td>\n",
       "      <td>1.00</td>\n",
       "      <td>33.0</td>\n",
       "      <td>0.00</td>\n",
       "    </tr>\n",
       "    <tr>\n",
       "      <th>KG</th>\n",
       "      <td>12.01</td>\n",
       "      <td>1.01</td>\n",
       "      <td>18.02</td>\n",
       "      <td>14.01</td>\n",
       "      <td>16.0</td>\n",
       "      <td>32.06</td>\n",
       "    </tr>\n",
       "  </tbody>\n",
       "</table>\n",
       "</div>"
      ],
      "text/plain": [
       "        C      H    H2O      N     O      S\n",
       "UA  55.00  11.00    NaN   1.00  33.0   0.00\n",
       "KG  12.01   1.01  18.02  14.01  16.0  32.06"
      ]
     },
     "execution_count": 3,
     "metadata": {},
     "output_type": "execute_result"
    }
   ],
   "source": [
    "db = pd.DataFrame([ultimate_analysis, weights],index=['UA','KG'])\n",
    "db"
   ]
  },
  {
   "cell_type": "code",
   "execution_count": 4,
   "metadata": {},
   "outputs": [
    {
     "data": {
      "text/plain": [
       "100.0"
      ]
     },
     "execution_count": 4,
     "metadata": {},
     "output_type": "execute_result"
    }
   ],
   "source": [
    "#check sums to 100%\n",
    "sum(proximate_analysis.values())"
   ]
  },
  {
   "cell_type": "code",
   "execution_count": 5,
   "metadata": {},
   "outputs": [
    {
     "data": {
      "text/plain": [
       "100.0"
      ]
     },
     "execution_count": 5,
     "metadata": {},
     "output_type": "execute_result"
    }
   ],
   "source": [
    "#check sums to 100%\n",
    "sum(proximate_analysis.values())"
   ]
  },
  {
   "cell_type": "code",
   "execution_count": 6,
   "metadata": {},
   "outputs": [
    {
     "data": {
      "text/plain": [
       "0.79"
      ]
     },
     "execution_count": 6,
     "metadata": {},
     "output_type": "execute_result"
    }
   ],
   "source": [
    "#find DAF per kg fuel\n",
    "per_kg = (proximate_analysis['volitile_matter']+proximate_analysis['fixed_carbon']) / sum(proximate_analysis.values())\n",
    "per_kg"
   ]
  },
  {
   "cell_type": "code",
   "execution_count": 7,
   "metadata": {},
   "outputs": [
    {
     "data": {
      "text/plain": [
       "{'C': 3.61781848459617,\n",
       " 'H': 8.603960396039605,\n",
       " 'H2O': 1.1098779134295227,\n",
       " 'N': 0.05638829407566025,\n",
       " 'O': 1.629375}"
      ]
     },
     "execution_count": 7,
     "metadata": {},
     "output_type": "execute_result"
    }
   ],
   "source": [
    "mole_H = per_kg*ultimate_analysis['H']/weights['H'] \n",
    "mole_C = per_kg*ultimate_analysis['C']/weights['C'] \n",
    "mole_O = per_kg*ultimate_analysis['O']/weights['O'] \n",
    "mole_N = per_kg*ultimate_analysis['N']/weights['N']\n",
    "mole_S = per_kg*ultimate_analysis['S']/weights['S']\n",
    "mole_H2O = proximate_analysis['moisture']/weights['H2O']\n",
    "\n",
    "kmolsPer100Kg = {'C': mole_C, 'H':mole_H, 'O':mole_O, 'N':mole_N, 'H2O':mole_H2O}\n",
    "kmolsPer100Kg"
   ]
  },
  {
   "cell_type": "code",
   "execution_count": 8,
   "metadata": {
    "collapsed": true
   },
   "outputs": [],
   "source": [
    "fuel = ct.Solution('gri30.cti')\n",
    "fuel.TP = 298, 101325\n",
    "fuel.X = kmolsPer100Kg"
   ]
  },
  {
   "cell_type": "code",
   "execution_count": 9,
   "metadata": {
    "collapsed": true
   },
   "outputs": [],
   "source": [
    "#Now we create a solution object'gas'. We set this object to react with air a phi of 1.15\n",
    "gas_react = ct.Solution('gri30.cti')\n",
    "gas_react.TP = 600, 101325\n",
    "gas_react.set_equivalence_ratio(1/1.15, kmolsPer100Kg, 'O2:1.0, N2:3.76')\n",
    "\n",
    "#find ratio for 100kg of fuel\n",
    "moles_react = gas_react.mole_fraction_dict()\n",
    "ratio = kmolsPer100Kg['H']/moles_react['H']"
   ]
  },
  {
   "cell_type": "code",
   "execution_count": 10,
   "metadata": {},
   "outputs": [
    {
     "data": {
      "text/plain": [
       "{'C': 3.6178184845961705,\n",
       " 'H': 8.603960396039605,\n",
       " 'H2O': 1.1098779134295227,\n",
       " 'N': 0.05638829407566026,\n",
       " 'N2': 21.421619565512653,\n",
       " 'O': 1.629375,\n",
       " 'O2': 5.697239246146982}"
      ]
     },
     "execution_count": 10,
     "metadata": {},
     "output_type": "execute_result"
    }
   ],
   "source": [
    "#put in terms of 100kg of fuel\n",
    "for key in moles_react:\n",
    "    moles_react[key] *= ratio\n",
    "    \n",
    "moles_react"
   ]
  },
  {
   "cell_type": "markdown",
   "metadata": {},
   "source": [
    "### Find the Enthalpy of Formation using the LHV"
   ]
  },
  {
   "cell_type": "code",
   "execution_count": 11,
   "metadata": {},
   "outputs": [
    {
     "data": {
      "text/plain": [
       "5645.021126646164"
      ]
     },
     "execution_count": 11,
     "metadata": {},
     "output_type": "execute_result"
    }
   ],
   "source": [
    "#We can check our had calc\n",
    "h_react = gas_react.h/1000\n",
    "h_react"
   ]
  },
  {
   "cell_type": "markdown",
   "metadata": {},
   "source": [
    "### Combustion Check"
   ]
  },
  {
   "cell_type": "code",
   "execution_count": 12,
   "metadata": {
    "collapsed": true
   },
   "outputs": [],
   "source": [
    "#Here we combust the reactants at a temperature and pressure\n",
    "gas_react.equilibrate('TP')"
   ]
  },
  {
   "cell_type": "code",
   "execution_count": 13,
   "metadata": {},
   "outputs": [
    {
     "data": {
      "text/plain": [
       "{'CO2': 0.11587175716953525,\n",
       " 'H2O': 0.1733313906225026,\n",
       " 'N2': 0.6869962056312481,\n",
       " 'O2': 0.023800627538585584}"
      ]
     },
     "execution_count": 13,
     "metadata": {},
     "output_type": "execute_result"
    }
   ],
   "source": [
    "#Becayse gri30 has lots of minor species we will grab only the molecules we are interested in for this problem\n",
    "molefract = gas_react.mole_fraction_dict()\n",
    "smpMolFract = {'CO2':molefract['CO2'], 'H2O':molefract['H2O'] , 'N2':molefract['N2'] , 'O2':molefract['O2']}\n",
    "smpMolFract"
   ]
  },
  {
   "cell_type": "code",
   "execution_count": 14,
   "metadata": {
    "collapsed": true
   },
   "outputs": [],
   "source": [
    "#Now we find the ratio that will convert us to 100kg of raw fuel\n",
    "ratio = moles_react['C']/smpMolFract['CO2']"
   ]
  },
  {
   "cell_type": "code",
   "execution_count": 15,
   "metadata": {},
   "outputs": [
    {
     "data": {
      "text/plain": [
       "{'CO2': 3.6178184845961705,\n",
       " 'H2O': 5.4118581116997175,\n",
       " 'N2': 21.44981341694561,\n",
       " 'O2': 0.7431176704095281}"
      ]
     },
     "execution_count": 15,
     "metadata": {},
     "output_type": "execute_result"
    }
   ],
   "source": [
    "#Let's loop through the products and multiply by the ratio\n",
    "for key in smpMolFract:\n",
    "    smpMolFract[key] *= ratio\n",
    "\n",
    "#Now we print the dictionary that shows the moles of each product at 100kg fuel\n",
    "smpMolFract"
   ]
  },
  {
   "cell_type": "code",
   "execution_count": null,
   "metadata": {
    "collapsed": true
   },
   "outputs": [],
   "source": []
  },
  {
   "cell_type": "markdown",
   "metadata": {},
   "source": [
    "## Part B -  Combustion Analysis"
   ]
  },
  {
   "cell_type": "code",
   "execution_count": 16,
   "metadata": {
    "collapsed": true
   },
   "outputs": [],
   "source": [
    "'''\n",
    "Let's analyze the reactants. What are their enthalpies at different temperatures\n",
    "This code block finds the enthalpies of oxygen and nitrogen at both 298K and 500K\n",
    "'''\n",
    "\n",
    "gas = ct.Solution('gri30.xml')\n",
    "gas.basis = 'molar'\n",
    "\n",
    "# Stream A1 (O2)\n",
    "A1 = ct.Quantity(gas, constant='HP')\n",
    "A1.TPX = 298, ct.one_atm, 'O2:1'\n",
    "\n",
    "# Stream B1 (N2)\n",
    "B1 = ct.Quantity(gas, constant='HP')\n",
    "B1.TPX = 298, ct.one_atm, 'N2:3.76'\n",
    "\n",
    "# Stream C1 (H2O)\n",
    "C1 = ct.Quantity(gas, constant='HP')\n",
    "C1.TPX = 298, ct.one_atm, 'H2O:1'\n",
    "\n",
    "# Stream A (O2)\n",
    "A = ct.Quantity(gas, constant='HP')\n",
    "A.TPX = 500, ct.one_atm, 'O2:1'\n",
    "\n",
    "# Stream B (N2)\n",
    "B = ct.Quantity(gas, constant='HP')\n",
    "B.TPX = 500, ct.one_atm, 'N2:3.76'\n",
    "\n",
    "# Stream C (H2O)\n",
    "C = ct.Quantity(gas, constant='HP')\n",
    "C.TPX = 500, ct.one_atm, 'H2O:1'\n"
   ]
  },
  {
   "cell_type": "code",
   "execution_count": 17,
   "metadata": {},
   "outputs": [
    {
     "name": "stdout",
     "output_type": "stream",
     "text": [
      "6090.594296961835\n",
      "5924.513366646463\n",
      "6929.860983924419\n"
     ]
    }
   ],
   "source": [
    "#calculate h-h298\n",
    "\n",
    "#oxygen\n",
    "hO2 = (A.h - A1.h)/1000\n",
    "print(hO2)\n",
    "\n",
    "#nitrogen\n",
    "hN2 = (B.h - B1.h)/1000\n",
    "print(hN2)\n",
    "\n",
    "#steam\n",
    "hH2O = (C.h - C1.h)/1000\n",
    "print(hH2O)"
   ]
  },
  {
   "cell_type": "code",
   "execution_count": 27,
   "metadata": {
    "collapsed": true
   },
   "outputs": [],
   "source": [
    "'''\n",
    "Let's analyze the products. What are their enthalpies at different temperatures\n",
    "This code block finds the enthalpies of H2O, CO2, N2, and O2 at both 298K and 600K\n",
    "'''\n",
    "\n",
    "gas = ct.Solution('gri30.xml')\n",
    "gas.basis = 'molar'\n",
    "\n",
    "# Stream A1 (H2O)\n",
    "A1 = ct.Quantity(gas, constant='HP')\n",
    "A1.TPX = 298, ct.one_atm, 'H2O:1'\n",
    "\n",
    "# Stream B1 (CO)\n",
    "B1 = ct.Quantity(gas, constant='HP')\n",
    "B1.TPX = 298, ct.one_atm, 'CO:1'\n",
    "\n",
    "# Stream C1 (H2)\n",
    "C1 = ct.Quantity(gas, constant='HP')\n",
    "C1.TPX = 298, ct.one_atm, 'H2:1'\n",
    "\n",
    "# Stream D1 (N2)\n",
    "D1 = ct.Quantity(gas, constant='HP')\n",
    "D1.TPX = 298, ct.one_atm, 'N2:1'\n",
    "\n",
    "\n",
    "# Stream A (H2O)\n",
    "A = ct.Quantity(gas, constant='HP')\n",
    "A.TPX = 500, ct.one_atm, 'H2O:1'\n",
    "\n",
    "# Stream B (CO)\n",
    "B = ct.Quantity(gas, constant='HP')\n",
    "B.TPX = 500, ct.one_atm, 'CO:1'\n",
    "\n",
    "# Stream C1 (H2)\n",
    "C = ct.Quantity(gas, constant='HP')\n",
    "C.TPX = 500, ct.one_atm, 'H2:1'\n",
    "\n",
    "# Stream D1 (N2)\n",
    "D = ct.Quantity(gas, constant='HP')\n",
    "D.TPX = 448, ct.one_atm, 'N2:1'"
   ]
  },
  {
   "cell_type": "code",
   "execution_count": 28,
   "metadata": {},
   "outputs": [
    {
     "name": "stdout",
     "output_type": "stream",
     "text": [
      "6929.860983924419\n",
      "5940.071469085693\n",
      "5899.790438394021\n",
      "4388.23669376562\n"
     ]
    }
   ],
   "source": [
    "#calculate h-h298\n",
    "\n",
    "#oxygen\n",
    "hH2O = (A.h - A1.h)/1000\n",
    "print(hH2O)\n",
    "\n",
    "#nitrogen\n",
    "hCO2 = (B.h - B1.h)/1000\n",
    "print(hCO2)\n",
    "\n",
    "#oxygen\n",
    "hN2 = (C.h - C1.h)/1000\n",
    "print(hN2)\n",
    "\n",
    "#nitrogen\n",
    "hO2 = (D.h - D1.h)/1000\n",
    "print(hO2)"
   ]
  },
  {
   "cell_type": "markdown",
   "metadata": {},
   "source": [
    "# Part B"
   ]
  },
  {
   "cell_type": "markdown",
   "metadata": {},
   "source": [
    "### Biomass Fed through Gasification"
   ]
  },
  {
   "cell_type": "markdown",
   "metadata": {},
   "source": [
    "### 3 - Oxygen Separator"
   ]
  },
  {
   "cell_type": "code",
   "execution_count": 20,
   "metadata": {
    "collapsed": true
   },
   "outputs": [],
   "source": [
    "#Create solution for Air, O2, and N2\n",
    "air = ct.Solution('gri30.cti')\n",
    "air.basis = 'molar'\n",
    "air.X = {'O2':1, 'N2':3.76}\n",
    "air.TP = 298, 101325\n",
    "\n",
    "Nitrogen = ct.Solution('gri30.cti')\n",
    "Nitrogen.basis = 'molar'\n",
    "Nitrogen.X = {'N2':1}\n",
    "Nitrogen.TP = 298, 101325\n",
    "\n",
    "Oxygen = ct.Solution('gri30.cti')\n",
    "Oxygen.basis = 'molar'\n",
    "Oxygen.X = {'O2':1}\n",
    "Oxygen.TP = 298, 101325"
   ]
  },
  {
   "cell_type": "code",
   "execution_count": 21,
   "metadata": {},
   "outputs": [
    {
     "data": {
      "text/plain": [
       "-6062.865513509683"
      ]
     },
     "execution_count": 21,
     "metadata": {},
     "output_type": "execute_result"
    }
   ],
   "source": [
    "#First let's find the energy required to separate O2 and N2 and a per kmol O2 basis\n",
    "\n",
    "To = 298\n",
    "so = 4.76*air.s\n",
    "s1 = (3.76*Nitrogen.s + Oxygen.s)\n",
    "\n",
    "mol_w = (To*(s1-so))/1000\n",
    "mol_w"
   ]
  },
  {
   "cell_type": "code",
   "execution_count": 22,
   "metadata": {},
   "outputs": [
    {
     "data": {
      "text/plain": [
       "-33.91415396619479"
      ]
     },
     "execution_count": 22,
     "metadata": {},
     "output_type": "execute_result"
    }
   ],
   "source": [
    "#Now let's convert that to kg fuel\n",
    "molMassO2 = 32\n",
    "mass_w = mol_w / molMassO2\n",
    "massFuel_w = mass_w*0.179\n",
    "massFuel_w"
   ]
  },
  {
   "cell_type": "code",
   "execution_count": null,
   "metadata": {
    "collapsed": true
   },
   "outputs": [],
   "source": []
  },
  {
   "cell_type": "code",
   "execution_count": null,
   "metadata": {
    "collapsed": true
   },
   "outputs": [],
   "source": []
  },
  {
   "cell_type": "code",
   "execution_count": null,
   "metadata": {
    "collapsed": true
   },
   "outputs": [],
   "source": []
  }
 ],
 "metadata": {
  "kernelspec": {
   "display_name": "Python 3",
   "language": "python",
   "name": "python3"
  },
  "language_info": {
   "codemirror_mode": {
    "name": "ipython",
    "version": 3
   },
   "file_extension": ".py",
   "mimetype": "text/x-python",
   "name": "python",
   "nbconvert_exporter": "python",
   "pygments_lexer": "ipython3",
   "version": "3.6.1"
  }
 },
 "nbformat": 4,
 "nbformat_minor": 2
}

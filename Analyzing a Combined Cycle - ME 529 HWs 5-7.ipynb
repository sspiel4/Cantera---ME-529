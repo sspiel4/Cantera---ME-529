{
 "cells": [
  {
   "cell_type": "code",
   "execution_count": 1,
   "metadata": {
    "collapsed": true
   },
   "outputs": [],
   "source": [
    "import cantera as ct\n",
    "import numpy as np"
   ]
  },
  {
   "cell_type": "code",
   "execution_count": 2,
   "metadata": {
    "collapsed": true
   },
   "outputs": [],
   "source": [
    "#Assumptions\n",
    "Pressure_Ratio = 26\n",
    "comp_efficiency = 0.85\n",
    "Turbine_Inlet_Temperature = 1700 #max inlet temperature in kelvin\n",
    "turb_efficiency = 0.92\n",
    "\n",
    "P6 = 101325 #outlet pressure in pa"
   ]
  },
  {
   "cell_type": "code",
   "execution_count": 3,
   "metadata": {
    "collapsed": true
   },
   "outputs": [],
   "source": [
    "#Analyze compressor\n",
    "\n",
    "#Air inlet to compressor\n",
    "state1 = ct.Solution('gri30.xml') #usegri30.xml gas definitions\n",
    "\n",
    "#First edit the composition of the gas\n",
    "phi = 2.756\n",
    "state1.X = {'O2':3*phi, 'N2':3*3.76*phi}\n",
    "\n",
    "#Next edit the states thermodynamic state\n",
    "state1.TP = 298, 101325"
   ]
  },
  {
   "cell_type": "code",
   "execution_count": 4,
   "metadata": {
    "collapsed": true
   },
   "outputs": [],
   "source": [
    "#isentropically compressed air\n",
    "state2s = ct.Solution('gri30.xml') #usegri30.xml gas definitions\n",
    "\n",
    "#Composition does not change\n",
    "state2s.X = state1.X\n",
    "#Set entropy and pressure for isentropic compression\n",
    "state2s.SP = state1.s, state1.P*Pressure_Ratio"
   ]
  },
  {
   "cell_type": "code",
   "execution_count": 5,
   "metadata": {
    "collapsed": true
   },
   "outputs": [],
   "source": [
    "#Use efficiency to calculate state 2\n",
    "\n",
    "#Air outlet to compressor\n",
    "state2 = ct.Solution('gri30.xml') #usegri30.xml gas definitions\n",
    "\n",
    "#Composition does not change\n",
    "state2.X = state1.X\n",
    "#Calculate enthalpy\n",
    "h2 = ((state2s.h-state1.h)/comp_efficiency)+state1.h\n",
    "\n",
    "#Set enthalpy and pressure for state 2\n",
    "state2.HP = h2,state1.P*Pressure_Ratio"
   ]
  },
  {
   "cell_type": "code",
   "execution_count": 6,
   "metadata": {
    "collapsed": true
   },
   "outputs": [],
   "source": [
    "#Define State 3\n",
    "#Fuel stream into compressor\n",
    "state3 = ct.Solution('gri30.xml') #usegri30.xml gas definitions\n",
    "\n",
    "#One mole of fuel C2H5\n",
    "state3.X = {'C2H4':1}\n",
    "#Set pressure and temperature. Pressure will be the same as state 2, temperature at 298K\n",
    "state3.TP = 298, state2.P\n",
    "\n"
   ]
  },
  {
   "cell_type": "code",
   "execution_count": 7,
   "metadata": {
    "collapsed": true
   },
   "outputs": [],
   "source": [
    "#Mix states 2 and 3 using variable Cp and find temperature before combustion. Iterate to find temperature\n",
    "\n",
    "T_R = 786.4\n"
   ]
  },
  {
   "cell_type": "code",
   "execution_count": 61,
   "metadata": {
    "collapsed": true
   },
   "outputs": [],
   "source": [
    "#Define staterR as the reactants\n",
    "stateR = ct.Solution('gri30.xml') #usegri30.xml gas definitions\n",
    "phi = 2.756\n",
    "stateR.X = {'C2H4':1, 'O2':3*phi, 'N2':3.76*3*phi}\n",
    "#Using temperature solve above\n",
    "stateR.TP = T_R, state2.P"
   ]
  },
  {
   "cell_type": "code",
   "execution_count": 62,
   "metadata": {},
   "outputs": [
    {
     "data": {
      "text/plain": [
       "8009.661348119622"
      ]
     },
     "execution_count": 62,
     "metadata": {},
     "output_type": "execute_result"
    }
   ],
   "source": [
    "#Analyze Turbine\n",
    "\n",
    "#State 4 as turbine inlet\n",
    "#State with state R, equililbrate through temperature and pressure\n",
    "state4 = ct.Solution('gri30.xml') #usegri30.xml gas definitions\n",
    "\n",
    "state4.X = stateR.X\n",
    "state4.TP = 1700, state2.P\n",
    "\n",
    "state4.equilibrate('TP')\n",
    "\n",
    "state4.s"
   ]
  },
  {
   "cell_type": "code",
   "execution_count": 63,
   "metadata": {},
   "outputs": [
    {
     "data": {
      "text/plain": [
       "795.9999999999993"
      ]
     },
     "execution_count": 63,
     "metadata": {},
     "output_type": "execute_result"
    }
   ],
   "source": [
    "#Isentropic efficiency\n",
    "\n",
    "#Turbine outlet\n",
    "state5s = ct.Solution('gri30.xml') #usegri30.xml gas definitions\n",
    "\n",
    "#Start with the reactants and eqilibrate to match temperature with entropy value at outlet pressure\n",
    "state5s.X = stateR.X\n",
    "\n",
    "#Iterate temperature to match entropy\n",
    "T= state4.T\n",
    "\n",
    "#Create bool n\n",
    "n = 'False'\n",
    "\n",
    "while n is 'False':\n",
    "    #Set state for elquilibrium\n",
    "    state5s.TP = T, 101325  \n",
    "    #Equilibrate\n",
    "    state5s.equilibrate('TP')\n",
    "    #Calculate and print delta_s\n",
    "    delta_s = state4.s - state5s.s\n",
    "    \n",
    "    if delta_s > 5:\n",
    "        T = T + 1\n",
    "    elif delta_s < -5:s\n",
    "        T = T - 1\n",
    "    else:\n",
    "        n = 'True'\n",
    "           \n",
    "#flame equilibruim temp\n",
    "state5s.T"
   ]
  },
  {
   "cell_type": "code",
   "execution_count": null,
   "metadata": {},
   "outputs": [],
   "source": []
  },
  {
   "cell_type": "code",
   "execution_count": 81,
   "metadata": {},
   "outputs": [
    {
     "data": {
      "text/plain": [
       "-465373.3332727448"
      ]
     },
     "execution_count": 81,
     "metadata": {},
     "output_type": "execute_result"
    }
   ],
   "source": [
    "#Use turbine efficiency to calculate actual temperature\n",
    "\n",
    "#Turbine outlet\n",
    "state5 = ct.Solution('gri30.xml') #usegri30.xml gas definitions\n",
    "state5.X = stateR.X\n",
    "\n",
    "h5 = state4.h - turb_efficiency*(state4.h - state5s.h)\n",
    "\n",
    "h5\n",
    "\n",
    "#Set state for elquilibrium\n",
    "state5.TP = 871.6, 101325  \n",
    "#Equilibrate\n",
    "state5.equilibrate('TP')\n",
    "\n",
    "state5.h\n"
   ]
  },
  {
   "cell_type": "code",
   "execution_count": 82,
   "metadata": {},
   "outputs": [
    {
     "data": {
      "text/plain": [
       "-462762.7637137661"
      ]
     },
     "execution_count": 82,
     "metadata": {},
     "output_type": "execute_result"
    }
   ],
   "source": [
    "h5"
   ]
  },
  {
   "cell_type": "code",
   "execution_count": 83,
   "metadata": {},
   "outputs": [
    {
     "data": {
      "text/plain": [
       "1125173.6738690122"
      ]
     },
     "execution_count": 83,
     "metadata": {},
     "output_type": "execute_result"
    }
   ],
   "source": [
    "(state4.h - state5s.h)"
   ]
  },
  {
   "cell_type": "code",
   "execution_count": null,
   "metadata": {},
   "outputs": [],
   "source": [
    "#iterate to match h5\n",
    "#Create bool n\n",
    "n = 'False'\n",
    "\n",
    "T = state5s.T\n",
    "\n",
    "while n is 'False':\n",
    "    #Set state for elquilibrium\n",
    "    state5.TP = 500, 101325  \n",
    "    #Equilibrate\n",
    "    state5.equilibrate('TP')\n",
    "    #Calculate and print delta_s\n",
    "    delta_h = h5 - state5.h\n",
    "    \n",
    "    if delta_h > 100:\n",
    "        T = T - 1\n",
    "    elif delta_h < -100:\n",
    "        T = T + 1\n",
    "    else:\n",
    "        n = 'True'"
   ]
  },
  {
   "cell_type": "code",
   "execution_count": null,
   "metadata": {
    "collapsed": true
   },
   "outputs": [],
   "source": []
  }
 ],
 "metadata": {
  "kernelspec": {
   "display_name": "Python 3",
   "language": "python",
   "name": "python3"
  },
  "language_info": {
   "codemirror_mode": {
    "name": "ipython",
    "version": 3
   },
   "file_extension": ".py",
   "mimetype": "text/x-python",
   "name": "python",
   "nbconvert_exporter": "python",
   "pygments_lexer": "ipython3",
   "version": "3.6.1"
  }
 },
 "nbformat": 4,
 "nbformat_minor": 2
}
